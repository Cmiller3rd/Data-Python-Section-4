{
  "cells": [
    {
      "cell_type": "markdown",
      "metadata": {
        "id": "RD4Dvro31inF"
      },
      "source": [
        "# Object-Oriented-Programming (OOP)"
      ]
    },
    {
      "cell_type": "markdown",
      "metadata": {
        "id": "UILPXXIl1inI"
      },
      "source": [
        "## Tasks Today:\n",
        "\n",
        "   \n",
        "\n",
        "1) <b>Creating a Class (Initializing/Declaring)</b> <br>\n",
        "2) <b>Using a Class (Instantiating)</b> <br>\n",
        " &nbsp;&nbsp;&nbsp;&nbsp; a) Creating One Instance <br>\n",
        " &nbsp;&nbsp;&nbsp;&nbsp; b) Creating Multiple Instances <br>\n",
        " &nbsp;&nbsp;&nbsp;&nbsp; c) In-Class Exercise #1 - Create a Class 'Car' and instantiate three different makes of cars <br>\n",
        "3) <b>The \\__init\\__() Method</b> <br>\n",
        " &nbsp;&nbsp;&nbsp;&nbsp; a) The 'self' Attribute <br>\n",
        "4) <b>Class Attributes</b> <br>\n",
        " &nbsp;&nbsp;&nbsp;&nbsp; a) Initializing Attributes <br>\n",
        " &nbsp;&nbsp;&nbsp;&nbsp; b) Setting an Attribute Outside of the \\__init\\__() Method <br>\n",
        " &nbsp;&nbsp;&nbsp;&nbsp; c) Setting Defaults for Attributes <br>\n",
        " &nbsp;&nbsp;&nbsp;&nbsp; d) Accessing Class Attributes <br>\n",
        " &nbsp;&nbsp;&nbsp;&nbsp; e) Changing Class Attributes <br>\n",
        " &nbsp;&nbsp;&nbsp;&nbsp; f) In-Class Exercise #2 - Add a color and wheels attribute to your 'Car' class <br>\n",
        "5) <b>Class Methods</b> <br>\n",
        " &nbsp;&nbsp;&nbsp;&nbsp; a) Creating <br>\n",
        " &nbsp;&nbsp;&nbsp;&nbsp; b) Calling <br>\n",
        " &nbsp;&nbsp;&nbsp;&nbsp; c) Modifying an Attribute's Value Through a Method <br>\n",
        " &nbsp;&nbsp;&nbsp;&nbsp; d) Incrementing an Attribute's Value Through a Method <br>\n",
        " &nbsp;&nbsp;&nbsp;&nbsp; e) In-Class Exercise #3 - Add a method that prints the cars color and wheel number, then call them <br>\n",
        "6) <b>Inheritance</b> <br>\n",
        " &nbsp;&nbsp;&nbsp;&nbsp; a) Syntax for Inheriting from a Parent Class <br>\n",
        " &nbsp;&nbsp;&nbsp;&nbsp; b) The \\__init\\__() Method for a Child Class (super()) <br>\n",
        " &nbsp;&nbsp;&nbsp;&nbsp; c) Defining Attributes and Methods for the Child Class <br>\n",
        " &nbsp;&nbsp;&nbsp;&nbsp; d) Method Overriding <br>\n",
        " &nbsp;&nbsp;&nbsp;&nbsp; e) In-Class Exercise #4 - Create a class 'Ford' that inherits from 'Car' class and initialize it as a Blue Ford Explorer with 4 wheels using the super() method <br>\n",
        "7) <b>Classes as Attributes</b> <br>\n",
        "8) <b>Exercises</b> <br>\n",
        " &nbsp;&nbsp;&nbsp;&nbsp; a) Exercise #1 - Turn the shopping cart program from yesterday into an object-oriented program <br>"
      ]
    },
    {
      "cell_type": "markdown",
      "metadata": {
        "id": "gpoxD1Br1inJ"
      },
      "source": [
        "## Creating a Class (Initializing/Declaring)\n",
        "<p>When creating a class, function, or even a variable you are initializing that object. Initializing and Declaring occur at the same time in Python, whereas in lower level languages you have to declare an object before initializing it. This is the first step in the process of using a class.</p>"
      ]
    },
    {
      "cell_type": "code",
      "execution_count": null,
      "metadata": {
        "id": "_Zz3wOqk1inK"
      },
      "outputs": [],
      "source": [
        "class Car():\n",
        "    wheels = 4\n",
        "    color = 'blue'"
      ]
    },
    {
      "cell_type": "markdown",
      "metadata": {
        "id": "QR6WoOMT1inL"
      },
      "source": [
        "## Using a Class (Instantiating)\n",
        "<p>The process of creating a class is called <i>Instantiating</i>. Each time you create a variable of that type of class, it is referred to as an <i>Instance</i> of that class. This is the second step in the process of using a class.</p>"
      ]
    },
    {
      "cell_type": "markdown",
      "metadata": {
        "id": "ZfimNTKZ1inM"
      },
      "source": [
        "##### Creating One Instance"
      ]
    },
    {
      "cell_type": "code",
      "execution_count": null,
      "metadata": {
        "id": "Xb1KmkJk1inM"
      },
      "outputs": [],
      "source": [
        "ford = Car()"
      ]
    },
    {
      "cell_type": "markdown",
      "metadata": {
        "id": "wWWTRyIa1inM"
      },
      "source": [
        "##### Creating Multiple Instances"
      ]
    },
    {
      "cell_type": "code",
      "execution_count": null,
      "metadata": {
        "id": "2WzrM3RS1inN",
        "colab": {
          "base_uri": "https://localhost:8080/"
        },
        "outputId": "276b475d-509d-4091-8674-e187a878dcca"
      },
      "outputs": [
        {
          "output_type": "stream",
          "name": "stdout",
          "text": [
            "4\n"
          ]
        }
      ],
      "source": [
        "honda = Car()\n",
        "chevy = Car()\n",
        "porsche = Car()\n",
        "\n",
        "print(honda.wheels)"
      ]
    },
    {
      "cell_type": "markdown",
      "metadata": {
        "id": "X69QHYZB1inN"
      },
      "source": [
        "##### In-Class Exercise #1 - Create a Class 'Car' and Instantiate three different makes of cars"
      ]
    },
    {
      "cell_type": "code",
      "execution_count": null,
      "metadata": {
        "id": "vD0Y8meA1inN",
        "colab": {
          "base_uri": "https://localhost:8080/"
        },
        "outputId": "935539b1-edaa-4d22-d34b-d1a90b903e71"
      },
      "outputs": [
        {
          "output_type": "stream",
          "name": "stdout",
          "text": [
            "black\n"
          ]
        }
      ],
      "source": [
        "class Car():\n",
        "  wheels = 4\n",
        "  doors = 4\n",
        "  color = 'black'\n",
        "\n",
        "ford = Car()\n",
        "chevy = Car()\n",
        "dodge = Car()\n",
        "print(chevy.color)"
      ]
    },
    {
      "cell_type": "markdown",
      "metadata": {
        "id": "GaZjM0RF1inO"
      },
      "source": [
        "## The \\__init\\__() Method <br>\n",
        "<p>This method is used in almost every created class, and called only once upon the creation of the class instance. This method will initialize all variables needed for the object.</p>"
      ]
    },
    {
      "cell_type": "code",
      "execution_count": null,
      "metadata": {
        "id": "W-VRogQr1inO",
        "colab": {
          "base_uri": "https://localhost:8080/"
        },
        "outputId": "b6a50acd-8111-4b0c-cc34-486983aba9b9"
      },
      "outputs": [
        {
          "output_type": "stream",
          "name": "stdout",
          "text": [
            "Quiz is a Warforged Barbarian played by Carl, and their stats are [6, 12, 12, 14, 16, 11]\n",
            "Eish is a Tiefling Bard played by Carl, and their stats are [7, 7, 10, 12, 12, 9]\n"
          ]
        }
      ],
      "source": [
        "import random\n",
        "\n",
        "class charClass():\n",
        "\n",
        "  def __init__(self, race, c_class):\n",
        "    self.race = race\n",
        "    self.c_class = c_class\n",
        "    self.stats = []\n",
        "    self.player = 'Carl'\n",
        "\n",
        "def rollStats():\n",
        "  # roll 4d6 (random b/t 6-17) and add to dict\n",
        "  stats = []\n",
        "  for stat in range(6):\n",
        "    stats.append(random.randrange(6,17))\n",
        "  return stats\n",
        "\n",
        "Quiz = charClass('Warforged', 'Barbarian')\n",
        "print(f'Quiz is a {Quiz.race} {Quiz.c_class} played by {Quiz.player},'\n",
        "      f' and their stats are {rollStats()}')\n",
        "\n",
        "Eish = charClass('Tiefling', 'Bard')\n",
        "print(f'Eish is a {Eish.race} {Eish.c_class} played by {Eish.player},'\n",
        "      f' and their stats are {rollStats()}')\n",
        "\n",
        "\n"
      ]
    },
    {
      "cell_type": "markdown",
      "metadata": {
        "id": "UaVd5TaV1inO"
      },
      "source": [
        "##### The 'self' Attribute <br>\n",
        "<p>This attribute is required to keep track of specific instance's attributes. Without the self attribute, the program would not know how to reference or keep track of an instance's attributes.</p>"
      ]
    },
    {
      "cell_type": "code",
      "execution_count": null,
      "metadata": {
        "id": "fp15AO-O1inO"
      },
      "outputs": [],
      "source": [
        "# see above"
      ]
    },
    {
      "cell_type": "markdown",
      "metadata": {
        "id": "lTMold6O1inO"
      },
      "source": [
        "## Class Attributes <br>\n",
        "<p>While variables are inside of a class, they are referred to as attributes and not variables. When someone says 'attribute' you know they're speaking about a class. Attributes can be initialized through the init method, or outside of it.</p>"
      ]
    },
    {
      "cell_type": "markdown",
      "metadata": {
        "id": "-D8aEDlb1inO"
      },
      "source": [
        "##### Initializing Attributes"
      ]
    },
    {
      "cell_type": "code",
      "execution_count": null,
      "metadata": {
        "id": "qL7ce3-o1inO"
      },
      "outputs": [],
      "source": [
        "# see above"
      ]
    },
    {
      "cell_type": "markdown",
      "metadata": {
        "id": "qZkidf8h1inO"
      },
      "source": [
        "##### Accessing Class Attributes"
      ]
    },
    {
      "cell_type": "code",
      "execution_count": null,
      "metadata": {
        "scrolled": true,
        "id": "Lh4Odyr01inP"
      },
      "outputs": [],
      "source": [
        "# See Above"
      ]
    },
    {
      "cell_type": "markdown",
      "metadata": {
        "id": "8y3_2_VE1inP"
      },
      "source": [
        "##### Setting Defaults for Attributes"
      ]
    },
    {
      "cell_type": "code",
      "execution_count": null,
      "metadata": {
        "id": "YoxrGFTW1inP"
      },
      "outputs": [],
      "source": []
    },
    {
      "cell_type": "markdown",
      "metadata": {
        "id": "ZlCK9SzT1inP"
      },
      "source": [
        "##### Changing Class Attributes <br>\n",
        "<p>Keep in mind there are global class attributes and then there are attributes only available to each class instance which won't effect other classes.</p>"
      ]
    },
    {
      "cell_type": "code",
      "execution_count": null,
      "metadata": {
        "id": "L4IDRkZW1inP"
      },
      "outputs": [],
      "source": []
    },
    {
      "cell_type": "code",
      "execution_count": null,
      "metadata": {
        "id": "eb57kjhD1inP"
      },
      "outputs": [],
      "source": []
    },
    {
      "cell_type": "markdown",
      "metadata": {
        "id": "RIez6Fhm1inP"
      },
      "source": [
        "##### In-Class Exercise #2 - Add a doors and seats attribute to your 'Car' class then print out two different instances with different doors and seats"
      ]
    },
    {
      "cell_type": "code",
      "execution_count": null,
      "metadata": {
        "id": "LUmOoWCy1inP",
        "colab": {
          "base_uri": "https://localhost:8080/"
        },
        "outputId": "a000b4fc-504b-4500-d873-5ea04733d394"
      },
      "outputs": [
        {
          "output_type": "stream",
          "name": "stdout",
          "text": [
            "4\n"
          ]
        }
      ],
      "source": [
        "class Car():\n",
        "  def __init__(self, wheels, color, doors, seats):\n",
        "    self.wheels = 4\n",
        "    self.color = color\n",
        "    self.doors = 2\n",
        "    self.seats = seats\n",
        "\n",
        "dodge = Car(4, 'Red', 4, 7)\n",
        "print(dodge.wheels)"
      ]
    },
    {
      "cell_type": "markdown",
      "metadata": {
        "id": "gaptqiY21inP"
      },
      "source": [
        "## Class Methods <br>\n",
        "<p>While inside of a class, functions are referred to as 'methods'. If you hear someone mention methods, they're speaking about classes. Methods are essentially functions, but only callable on the instances of a class.</p>"
      ]
    },
    {
      "cell_type": "markdown",
      "metadata": {
        "id": "zGj5-Ke71inP"
      },
      "source": [
        "##### Creating"
      ]
    },
    {
      "cell_type": "code",
      "execution_count": null,
      "metadata": {
        "id": "1yJ8hN8Q1inP"
      },
      "outputs": [],
      "source": [
        "class ShoppingBag():\n",
        "  '''\n",
        "  The ShoppingBag will have handles, capacity, and items to place inside.\n",
        "\n",
        "  Attributes:\n",
        "  - handles = expects an int\n",
        "  - capacity = expects an int\n",
        "  - items = expects a list\n",
        "  '''\n",
        "\n",
        "  def __init__(self,handles,capacity = 10,items = []):\n",
        "    self.handles = handles\n",
        "    self.capacity = capacity\n",
        "    self.items = items\n",
        "\n",
        "  def showBag(self):\n",
        "    if len(self.items) == 0:\n",
        "      print(\"You have nothing in your bag\")\n",
        "    else:\n",
        "      print(f'You have {len(self.items)} items in your bag:')\n",
        "      for item in self.items:\n",
        "        print(item)\n",
        "\n",
        "  def showCapacity(self):\n",
        "    print(f'Your remaining capacity is: {self.capacity - len(self.items)}')\n",
        "\n",
        "  def addToBag(self):\n",
        "    product = input(\"What would you like to add? \")\n",
        "    if len(self.items) < self.capacity:\n",
        "      self.items.append(product)\n",
        "    else:\n",
        "      print(\"I'm sorry, your bag is full already.\")\n",
        "\n",
        "\n",
        "  def showHandles(self):\n",
        "    print(f'You have {self.handles} handles on your bag.')\n"
      ]
    },
    {
      "cell_type": "markdown",
      "metadata": {
        "id": "l3zQ_Sgt1inP"
      },
      "source": [
        "##### Calling"
      ]
    },
    {
      "cell_type": "code",
      "source": [],
      "metadata": {
        "id": "yO8bK1WY4oxy"
      },
      "execution_count": null,
      "outputs": []
    },
    {
      "cell_type": "code",
      "execution_count": null,
      "metadata": {
        "id": "CBN7r8l41inP",
        "colab": {
          "base_uri": "https://localhost:8080/"
        },
        "outputId": "d2e4191e-f892-40d7-9ae4-46a51e8930ff"
      },
      "outputs": [
        {
          "output_type": "stream",
          "name": "stdout",
          "text": [
            "What would you like to do?\n",
            "\n",
            "You may:\n",
            "- Add\n",
            "- Show\n",
            "- Quit\n",
            "show\n",
            "What would you like to see?\n",
            "- Capacity\n",
            "- Handles\n",
            "- Shopping Bag\n",
            "shopping bag\n",
            "You have 10 items in your bag:\n",
            "beer\n",
            "beef\n",
            "beer\n",
            "beans\n",
            "bottles\n",
            "breakfast\n",
            "beef\n",
            "beer\n",
            "beef\n",
            "beer\n",
            "What would you like to do?\n",
            "\n",
            "You may:\n",
            "- Add\n",
            "- Show\n",
            "- Quit\n",
            "quit\n",
            "You have 10 items in your bag:\n",
            "beer\n",
            "beef\n",
            "beer\n",
            "beans\n",
            "bottles\n",
            "breakfast\n",
            "beef\n",
            "beer\n",
            "beef\n",
            "beer\n",
            "Thanks for shopping!\n"
          ]
        }
      ],
      "source": [
        "\n",
        "costco = ShoppingBag(2)\n",
        "\n",
        "def shop():\n",
        "  while True:\n",
        "    response = input(\"What would you like to do?\\n\\nYou may:\\n- Add\"\n",
        "                    \"\\n- Show\\n- Quit\\n\")\n",
        "\n",
        "    if response.lower() == 'quit':\n",
        "      costco.showBag()\n",
        "      print(\"Thanks for shopping!\")\n",
        "      break\n",
        "\n",
        "    elif response.lower() == 'add':\n",
        "      costco.addToBag()\n",
        "\n",
        "    elif response.lower() == 'show':\n",
        "      choice = input(\"What would you like to see?\\n- Capacity\\n- Handles\\n- Shopping Bag\\n\")\n",
        "\n",
        "      if choice.lower() == 'capacity':\n",
        "        costco.showCapacity()\n",
        "\n",
        "      elif choice.lower() == 'handles':\n",
        "        costco.showHandles()\n",
        "\n",
        "      elif choice.lower() == 'shopping bag':\n",
        "        costco.showBag()\n",
        "\n",
        "      else:\n",
        "        print(\"I'm sorry, that is not a valid option.\")\n",
        "\n",
        "    else:\n",
        "      print(\"I'm sorry, that is not a valid option.\")\n",
        "\n",
        "shop()"
      ]
    },
    {
      "cell_type": "code",
      "source": [],
      "metadata": {
        "id": "o0sCDiMQ0Hna"
      },
      "execution_count": null,
      "outputs": []
    },
    {
      "cell_type": "markdown",
      "metadata": {
        "id": "QBFrX5TK1inQ"
      },
      "source": [
        "##### Modifying an Attribute's Value Through a Method"
      ]
    },
    {
      "cell_type": "code",
      "execution_count": null,
      "metadata": {
        "id": "T1VEMDhH1inQ"
      },
      "outputs": [],
      "source": []
    },
    {
      "cell_type": "markdown",
      "metadata": {
        "id": "pMkft3Ct1inQ"
      },
      "source": [
        "##### Incrementing an Attribute's Value Through a Method"
      ]
    },
    {
      "cell_type": "code",
      "execution_count": null,
      "metadata": {
        "id": "xjccsgBy1inQ"
      },
      "outputs": [],
      "source": []
    },
    {
      "cell_type": "markdown",
      "metadata": {
        "id": "1EMNMTfP1inQ"
      },
      "source": [
        "##### In-Class Exercise #3 - Add a method that takes in three parameters of year, doors and seats and prints out a formatted print statement with make, model, year, seats, and doors"
      ]
    },
    {
      "cell_type": "code",
      "execution_count": null,
      "metadata": {
        "id": "HRVZwIVy1inQ",
        "colab": {
          "base_uri": "https://localhost:8080/"
        },
        "outputId": "9490bddd-a078-4144-fd68-25d1b0ad5fc9"
      },
      "outputs": [
        {
          "output_type": "stream",
          "name": "stdout",
          "text": [
            "This car is from 2020 and is a Honda Civic, with 4 doors and 5 seats.\n"
          ]
        }
      ],
      "source": [
        "# Create class with 2 paramters inside of the __init__ which are make and model\n",
        "class Car():\n",
        "\n",
        "  def __init__(self, make, model):\n",
        "    self.make = make\n",
        "    self.model = model\n",
        "# Inside of the Car class create a method that has 4 parameter in total (self,year,door,seats)\n",
        "  def carInfo(self, year, door, seats):\n",
        "    self.year = year\n",
        "    self.door = door\n",
        "    self.seats = seats\n",
        "# Output: This car is from 2019 and is a Ford Expolorer and has 4 doors and 5 seats\n",
        "  def printInfo(self):\n",
        "    print(f'This car is from {self.year} and is a {self.make} {self.model},'\n",
        "          f' with {self.door} doors and {self.seats} seats.')\n",
        "\n",
        "myCar = Car('Honda', 'Civic')\n",
        "myCar.carInfo(2020, 4, 5)\n",
        "myCar.printInfo()\n",
        "\n"
      ]
    },
    {
      "cell_type": "markdown",
      "metadata": {
        "id": "njCwIjIy1inQ"
      },
      "source": [
        "## Inheritance <br>\n",
        "<p>You can create a child-parent relationship between two classes by using inheritance. What this allows you to do is have overriding methods, but also inherit traits from the parent class. Think of it as an actual parent and child, the child will inherit the parent's genes, as will the classes in OOP</p>"
      ]
    },
    {
      "cell_type": "markdown",
      "metadata": {
        "id": "OKxAFvBR1inX"
      },
      "source": [
        "##### Syntax for Inheriting from a Parent Class"
      ]
    },
    {
      "cell_type": "code",
      "execution_count": null,
      "metadata": {
        "id": "UkRehTVe1inX"
      },
      "outputs": [],
      "source": []
    },
    {
      "cell_type": "markdown",
      "metadata": {
        "id": "QtkY6jNU1inX"
      },
      "source": [
        "##### The \\__init\\__() Method for a Child Class - super()"
      ]
    },
    {
      "cell_type": "code",
      "execution_count": null,
      "metadata": {
        "scrolled": true,
        "id": "VqMYoo5I1inX"
      },
      "outputs": [],
      "source": []
    },
    {
      "cell_type": "markdown",
      "metadata": {
        "id": "6qNvzp9R1inX"
      },
      "source": [
        "##### Defining Attributes and Methods for the Child Class"
      ]
    },
    {
      "cell_type": "code",
      "execution_count": null,
      "metadata": {
        "id": "9dMN6g8u1inX"
      },
      "outputs": [],
      "source": [
        "# See Above"
      ]
    },
    {
      "cell_type": "markdown",
      "metadata": {
        "id": "gDC0JiF_1inX"
      },
      "source": [
        "##### Method Overriding"
      ]
    },
    {
      "cell_type": "code",
      "execution_count": null,
      "metadata": {
        "id": "CzJ-viQz1inX"
      },
      "outputs": [],
      "source": [
        "# See Above"
      ]
    },
    {
      "cell_type": "markdown",
      "metadata": {
        "id": "_fBZoKLK1inX"
      },
      "source": [
        "## Classes as Attributes <br>\n",
        "<p>Classes can also be used as attributes within another class. This is useful in situations where you need to keep variables locally stored, instead of globally stored.</p>"
      ]
    },
    {
      "cell_type": "code",
      "execution_count": null,
      "metadata": {
        "id": "i6aXL2LF1inX"
      },
      "outputs": [],
      "source": []
    },
    {
      "cell_type": "markdown",
      "metadata": {
        "id": "4Grw7iCy1inX"
      },
      "source": [
        "# Exercises"
      ]
    },
    {
      "cell_type": "markdown",
      "metadata": {
        "id": "1Z1IvXXr1inX"
      },
      "source": [
        "### Exercise 1 - Turn the shopping cart program from yesterday into an object-oriented program\n",
        "\n",
        "The comments in the cell below are there as a guide for thinking about the problem. However, if you feel a different way is best for you and your own thought process, please do what feels best for you by all means."
      ]
    },
    {
      "cell_type": "code",
      "execution_count": 1,
      "metadata": {
        "id": "pj9TOKvm1inY",
        "colab": {
          "base_uri": "https://localhost:8080/"
        },
        "outputId": "f74f6535-e677-4a74-e929-2adfe482218d"
      },
      "outputs": [
        {
          "output_type": "stream",
          "name": "stdout",
          "text": [
            "What would you like to do? You can say 'Add,','Show,' 'Delete,' 'Clear,' or 'Quit.' show\n",
            "You have 2 item in your cart: \n",
            "beer\n",
            "beef\n",
            "What would you like to do? You can say 'Add,','Show,' 'Delete,' 'Clear,' or 'Quit.' delete\n",
            "beer\n",
            "beef\n",
            "Which item would you like to remove? beef\n",
            "beef has been removed from your cart.\n",
            "What would you like to do? You can say 'Add,','Show,' 'Delete,' 'Clear,' or 'Quit.' quit\n",
            "You have 1 item in your cart: \n",
            "beer\n"
          ]
        }
      ],
      "source": [
        "from IPython.display import clear_output\n",
        "\n",
        "class Cart():\n",
        "  '''Cart will take items and store them in a list.\n",
        "      Methods include Add to Cart, Remove from Cart, Show Cart, and Empty Cart\n",
        "  '''\n",
        "  def __init__(self, items = []):\n",
        "    self.items = items\n",
        "\n",
        "  def addtoCart(self):\n",
        "    item = input(\"What would you like to add? \")\n",
        "    self.items.append(item)\n",
        "\n",
        "  def removefromCart(self):\n",
        "    # show items, query which to remove\n",
        "    for thing_in_cart in self.items:\n",
        "      print(thing_in_cart)\n",
        "    strikethrough = input(\"Which item would you like to remove? \")\n",
        "    self.items.remove(strikethrough)\n",
        "    print(f'{strikethrough} has been removed from your cart.')\n",
        "\n",
        "  def showCart(self):\n",
        "    if len(self.items) == 0:\n",
        "      print(f\"You have nothing in your cart.\")\n",
        "    else:\n",
        "      print(f'You have {len(self.items)} item in your cart: ')\n",
        "      for thing_in_cart in self.items:\n",
        "        print(thing_in_cart)\n",
        "\n",
        "  def emptyCart(self):\n",
        "    confirm = input('Are you sure you want to clear your cart?'\n",
        "                    'Answer \"yes\" or \"no.\" ')\n",
        "    if confirm.lower() == 'yes':\n",
        "      clear(self.items)\n",
        "\n",
        "walmart = Cart()\n",
        "\n",
        "def goShopping():\n",
        "\n",
        "    while True:\n",
        "      query = input(\"What would you like to do? You can say 'Add,',\"\n",
        "                    \"'Show,' 'Delete,' 'Clear,' or 'Quit.' \" )\n",
        "      if query.lower() == 'add':\n",
        "        walmart.addtoCart()\n",
        "        clear_output()\n",
        "      elif query.lower() == 'show':\n",
        "        walmart.showCart()\n",
        "      elif query.lower() == 'delete':\n",
        "        walmart.removefromCart()\n",
        "      elif query.lower() == 'clear':\n",
        "        walmart.emptyCart()\n",
        "      elif query.lower() == 'quit':\n",
        "        walmart.showCart()\n",
        "        break\n",
        "      else:\n",
        "        print(\"That is not a valid input. Please choose from the options above.\")\n",
        "\n",
        "goShopping()\n",
        "\n"
      ]
    },
    {
      "cell_type": "markdown",
      "metadata": {
        "id": "NvKfJDhi1inY"
      },
      "source": [
        "### Exercise 2 - Write a Python class which has two methods get_String and print_String. get_String accept a string from the user and print_String print the string in upper case"
      ]
    },
    {
      "cell_type": "code",
      "execution_count": null,
      "metadata": {
        "id": "LQLok_vq1inY",
        "colab": {
          "base_uri": "https://localhost:8080/"
        },
        "outputId": "75b0fceb-423e-48c5-8fe2-93d18afa3ed0"
      },
      "outputs": [
        {
          "output_type": "stream",
          "name": "stdout",
          "text": [
            "hello?\n",
            "HELLO?\n"
          ]
        }
      ],
      "source": [
        "class Strings():\n",
        "\n",
        "  def __init__(self, text= \"\"):\n",
        "    self.text = text\n",
        "\n",
        "  def get_String(self):\n",
        "    string = str(input())\n",
        "    self.text = string\n",
        "\n",
        "  def print_String(self):\n",
        "    string = self.text\n",
        "    print(string.upper())\n",
        "\n",
        "test = Strings()\n",
        "\n",
        "test.get_String()\n",
        "test.print_String()"
      ]
    }
  ],
  "metadata": {
    "kernelspec": {
      "display_name": "Python 3",
      "language": "python",
      "name": "python3"
    },
    "language_info": {
      "codemirror_mode": {
        "name": "ipython",
        "version": 3
      },
      "file_extension": ".py",
      "mimetype": "text/x-python",
      "name": "python",
      "nbconvert_exporter": "python",
      "pygments_lexer": "ipython3",
      "version": "3.8.5"
    },
    "colab": {
      "provenance": []
    }
  },
  "nbformat": 4,
  "nbformat_minor": 0
}